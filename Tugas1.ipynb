{
  "nbformat": 4,
  "nbformat_minor": 0,
  "metadata": {
    "colab": {
      "provenance": [],
      "authorship_tag": "ABX9TyPTHeuxiZIA0nFqbjTErzZu",
      "include_colab_link": true
    },
    "kernelspec": {
      "name": "python3",
      "display_name": "Python 3"
    },
    "language_info": {
      "name": "python"
    }
  },
  "cells": [
    {
      "cell_type": "markdown",
      "metadata": {
        "id": "view-in-github",
        "colab_type": "text"
      },
      "source": [
        "<a href=\"https://colab.research.google.com/github/heeyarun04/Pengolahan-Citra-Digital/blob/main/Tugas1.ipynb\" target=\"_parent\"><img src=\"https://colab.research.google.com/assets/colab-badge.svg\" alt=\"Open In Colab\"/></a>"
      ]
    },
    {
      "cell_type": "code",
      "execution_count": 1,
      "metadata": {
        "colab": {
          "base_uri": "https://localhost:8080/",
          "height": 211
        },
        "id": "2jwSOMOIGiS7",
        "outputId": "d32d3b46-5ef4-45ca-d4d7-e88ff6a256a3"
      },
      "outputs": [
        {
          "output_type": "error",
          "ename": "NameError",
          "evalue": "name 'Image' is not defined",
          "traceback": [
            "\u001b[0;31m---------------------------------------------------------------------------\u001b[0m",
            "\u001b[0;31mNameError\u001b[0m                                 Traceback (most recent call last)",
            "\u001b[0;32m<ipython-input-1-f04b72d630c5>\u001b[0m in \u001b[0;36m<cell line: 6>\u001b[0;34m()\u001b[0m\n\u001b[1;32m      4\u001b[0m \u001b[0;31m# Load image\u001b[0m\u001b[0;34m\u001b[0m\u001b[0;34m\u001b[0m\u001b[0m\n\u001b[1;32m      5\u001b[0m \u001b[0mimage_path\u001b[0m \u001b[0;34m=\u001b[0m \u001b[0;34m\"angky2.png\"\u001b[0m\u001b[0;34m\u001b[0m\u001b[0;34m\u001b[0m\u001b[0m\n\u001b[0;32m----> 6\u001b[0;31m \u001b[0mimage\u001b[0m \u001b[0;34m=\u001b[0m \u001b[0mImage\u001b[0m\u001b[0;34m.\u001b[0m\u001b[0mopen\u001b[0m\u001b[0;34m(\u001b[0m\u001b[0mimage_path\u001b[0m\u001b[0;34m)\u001b[0m\u001b[0;34m\u001b[0m\u001b[0;34m\u001b[0m\u001b[0m\n\u001b[0m\u001b[1;32m      7\u001b[0m \u001b[0;34m\u001b[0m\u001b[0m\n\u001b[1;32m      8\u001b[0m \u001b[0;31m# Konversi ke Grayscale\u001b[0m\u001b[0;34m\u001b[0m\u001b[0;34m\u001b[0m\u001b[0m\n",
            "\u001b[0;31mNameError\u001b[0m: name 'Image' is not defined"
          ]
        }
      ],
      "source": [
        "import numpy as np\n",
        "import matplotlib.pyplot as plt\n",
        "\n",
        "# Load image\n",
        "image_path = \"angky2.png\"\n",
        "image = Image.open(image_path)\n",
        "\n",
        "# Konversi ke Grayscale\n",
        "grayscale_image = image.convert(\"L\")\n",
        "grayscale_image.save(\"grayscale_angky2.png\")\n",
        "\n",
        "# Konversi Negasi\n",
        "negative_image = Image.fromarray(255 - np.array(image))\n",
        "negative_image.save(\"negative_angky2.png\")\n",
        "\n",
        "# Konversi Warna Biner\n",
        "binary_image = grayscale_image.point(lambda x: 0 if x < 128 else 255, '1')\n",
        "binary_image.save(\"binary_angky2.png\")\n",
        "\n",
        "# Konversi menjadi warna kontras\n",
        "contrast_image = Image.eval(image, lambda x: x * 1.5)\n",
        "contrast_image.save(\"contrast_angky2.png\")\n",
        "\n",
        "# Buat menjadi ukuran 512x512\n",
        "resized_512 = image.resize((512, 512))\n",
        "resized_512.save(\"resized_512_angky2.png\")\n",
        "\n",
        "# Buat menjadi ukuran 256x256\n",
        "resized_256 = image.resize((256, 256))\n",
        "resized_256.save(\"resized_256_angky2.png\")\n",
        "\n",
        "# Buat menjadi ukuran 128x128\n",
        "resized_128 = image.resize((128, 128))\n",
        "resized_128.save(\"resized_128_angky2.png\")\n",
        "\n",
        "# Buat menjadi ukuran 64x64\n",
        "resized_64 = image.resize((64, 64))\n",
        "resized_64.save(\"resized_64_angky2.png\")\n",
        "\n",
        "# Buat menjadi ukuran 32x32\n",
        "resized_32 = image.resize((32, 32))\n",
        "resized_32.save(\"resized_32_angky2.png\")\n",
        "\n",
        "# Tampilkan gambar-gambar yang telah dihasilkan\n",
        "images = [\n",
        "    image,\n",
        "    grayscale_image,\n",
        "    negative_image,\n",
        "    binary_image,\n",
        "    contrast_image,\n",
        "    resized_512,\n",
        "    resized_256,\n",
        "    resized_128,\n",
        "    resized_64,\n",
        "    resized_32\n",
        "]\n",
        "\n",
        "titles = [\n",
        "    \"Original\",\n",
        "    \"Grayscale\",\n",
        "    \"Negative\",\n",
        "    \"Binary\",\n",
        "    \"Contrast\",\n",
        "    \"Resized 512x512\",\n",
        "    \"Resized 256x256\",\n",
        "    \"Resized 128x128\",\n",
        "    \"Resized 64x64\",\n",
        "    \"Resized 32x32\"\n",
        "]\n",
        "\n",
        "plt.figure(figsize=(15, 10))\n",
        "for i in range(len(images)):\n",
        "    plt.subplot(2, 5, i + 1)\n",
        "    plt.imshow(images[i])\n",
        "    plt.title(titles[i])\n",
        "    plt.axis(\"off\")\n",
        "\n",
        "plt.tight_layout()\n",
        "plt.show()"
      ]
    }
  ]
}